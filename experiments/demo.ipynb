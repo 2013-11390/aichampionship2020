{
 "cells": [
  {
   "cell_type": "code",
   "execution_count": 2,
   "metadata": {},
   "outputs": [],
   "source": [
    "import torch\n",
    "import json\n",
    "import pickle\n",
    "import os\n",
    "from IPython.display import Video"
   ]
  },
  {
   "cell_type": "code",
   "execution_count": 3,
   "metadata": {},
   "outputs": [],
   "source": [
    "test_dirs = [\n",
    "    'slowfast_r101/test_1',\n",
    "]\n",
    "\n",
    "with open('../data_demo/test_anno.json', 'r') as f:\n",
    "    test_anno_json = json.load(f)\n",
    "\n",
    "label_class, vids, labels = [], [], []\n",
    "for lidx, elem in enumerate(test_anno_json):\n",
    "    label_class.append(elem['label'])\n",
    "    labels += [lidx] * len(elem['vids'])\n",
    "    vids += elem['vids']\n",
    "\n",
    "pred_logits = torch.zeros((len(vids), len(label_class))) # [V x C]\n",
    "for test_dir in test_dirs:\n",
    "    with open(os.path.join('../logdir', test_dir, 'pred_logits.pkl'), 'rb') as f:\n",
    "        pred_dict = pickle.load(f)\n",
    "    for vidx, vid in enumerate(vids):\n",
    "        pred_logits[vidx] += pred_dict[vid].squeeze()\n",
    "pred_indices = pred_logits.argmax(1)"
   ]
  },
  {
   "cell_type": "code",
   "execution_count": null,
   "metadata": {},
   "outputs": [],
   "source": [
    "for idx in range(400, len(pred_indices)):\n",
    "    pred_idx = pred_indices[idx]\n",
    "    if labels[idx] == pred_idx:\n",
    "        break\n",
    "print(idx, \"pred\", label_class[pred_idx], \"gt\", label_class[labels[idx]])\n",
    "v_path = '../data_demo/videos/%s.mp4'%vids[idx]\n",
    "print(vids[idx], idx)\n",
    "Video(v_path, width=480)"
   ]
  }
 ],
 "metadata": {
  "kernelspec": {
   "display_name": "Python 3",
   "language": "python",
   "name": "python3"
  },
  "language_info": {
   "codemirror_mode": {
    "name": "ipython",
    "version": 3
   },
   "file_extension": ".py",
   "mimetype": "text/x-python",
   "name": "python",
   "nbconvert_exporter": "python",
   "pygments_lexer": "ipython3",
   "version": "3.7.7"
  }
 },
 "nbformat": 4,
 "nbformat_minor": 4
}
